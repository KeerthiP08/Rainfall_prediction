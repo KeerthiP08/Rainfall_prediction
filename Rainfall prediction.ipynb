{
  "nbformat": 4,
  "nbformat_minor": 0,
  "metadata": {
    "colab": {
      "provenance": []
    },
    "kernelspec": {
      "name": "python3",
      "display_name": "Python 3"
    },
    "language_info": {
      "name": "python"
    }
  },
  "cells": [
    {
      "cell_type": "code",
      "execution_count": 1,
      "metadata": {
        "colab": {
          "base_uri": "https://localhost:8080/"
        },
        "id": "Z0dGDy2B6k1W",
        "outputId": "b8c3aa4c-2667-442b-b48a-991d99fd3bca"
      },
      "outputs": [
        {
          "output_type": "stream",
          "name": "stdout",
          "text": [
            "Collecting pyspark\n",
            "  Downloading pyspark-3.5.1.tar.gz (317.0 MB)\n",
            "\u001b[2K     \u001b[90m━━━━━━━━━━━━━━━━━━━━━━━━━━━━━━━━━━━━━━━━\u001b[0m \u001b[32m317.0/317.0 MB\u001b[0m \u001b[31m2.5 MB/s\u001b[0m eta \u001b[36m0:00:00\u001b[0m\n",
            "\u001b[?25h  Preparing metadata (setup.py) ... \u001b[?25l\u001b[?25hdone\n",
            "Requirement already satisfied: py4j==0.10.9.7 in /usr/local/lib/python3.10/dist-packages (from pyspark) (0.10.9.7)\n",
            "Building wheels for collected packages: pyspark\n",
            "  Building wheel for pyspark (setup.py) ... \u001b[?25l\u001b[?25hdone\n",
            "  Created wheel for pyspark: filename=pyspark-3.5.1-py2.py3-none-any.whl size=317488491 sha256=e9f1a547dd14e54e90181db44a203249cfa7e2633f366f81f523aa8eb3dcc4ae\n",
            "  Stored in directory: /root/.cache/pip/wheels/80/1d/60/2c256ed38dddce2fdd93be545214a63e02fbd8d74fb0b7f3a6\n",
            "Successfully built pyspark\n",
            "Installing collected packages: pyspark\n",
            "Successfully installed pyspark-3.5.1\n"
          ]
        }
      ],
      "source": [
        "# Installing pyspark\n",
        "\n",
        "!pip install pyspark"
      ]
    },
    {
      "cell_type": "code",
      "source": [
        "# Import necessary libraries\n",
        "\n",
        "import pandas as pd\n",
        "from pyspark.sql import SparkSession\n",
        "from pyspark.ml.feature import OneHotEncoder, VectorAssembler, StandardScaler\n",
        "from pyspark.ml import Pipeline\n",
        "from pyspark.ml.classification import LogisticRegression\n",
        "from pyspark.ml.evaluation import BinaryClassificationEvaluator\n",
        "from pyspark.sql.functions import col, when\n",
        "from pyspark.sql.types import StructType, StructField, StringType, DoubleType, DateType"
      ],
      "metadata": {
        "id": "FNFqBgdt6xod"
      },
      "execution_count": 2,
      "outputs": []
    },
    {
      "cell_type": "code",
      "source": [
        "# Initialise spark session\n",
        "\n",
        "spark = SparkSession.builder.getOrCreate()"
      ],
      "metadata": {
        "id": "0333MwxR67TZ"
      },
      "execution_count": 3,
      "outputs": []
    },
    {
      "cell_type": "code",
      "source": [
        "# Load the dataset\n",
        "\n",
        "data = spark.read.csv('/content/weatherAUS.csv', header=True)"
      ],
      "metadata": {
        "id": "ZPBDzxSZ68Yd"
      },
      "execution_count": 4,
      "outputs": []
    },
    {
      "cell_type": "code",
      "source": [
        "# Display data\n",
        "\n",
        "data.show()"
      ],
      "metadata": {
        "colab": {
          "base_uri": "https://localhost:8080/"
        },
        "id": "Z850ipo57Eqh",
        "outputId": "4663c45c-5113-488f-b666-cd5bb98eb47a"
      },
      "execution_count": 5,
      "outputs": [
        {
          "output_type": "stream",
          "name": "stdout",
          "text": [
            "+----------+--------+-------+-------+--------+-----------+--------+-----------+-------------+----------+----------+------------+------------+-----------+-----------+-----------+-----------+--------+--------+-------+-------+---------+-------+------------+\n",
            "|      Date|Location|MinTemp|MaxTemp|Rainfall|Evaporation|Sunshine|WindGustDir|WindGustSpeed|WindDir9am|WindDir3pm|WindSpeed9am|WindSpeed3pm|Humidity9am|Humidity3pm|Pressure9am|Pressure3pm|Cloud9am|Cloud3pm|Temp9am|Temp3pm|RainToday|RISK_MM|RainTomorrow|\n",
            "+----------+--------+-------+-------+--------+-----------+--------+-----------+-------------+----------+----------+------------+------------+-----------+-----------+-----------+-----------+--------+--------+-------+-------+---------+-------+------------+\n",
            "|2008-12-01|  Albury|   13.4|   22.9|     0.6|         NA|      NA|          W|           44|         W|       WNW|          20|          24|         71|         22|     1007.7|     1007.1|       8|      NA|   16.9|   21.8|       No|      0|          No|\n",
            "|2008-12-02|  Albury|    7.4|   25.1|       0|         NA|      NA|        WNW|           44|       NNW|       WSW|           4|          22|         44|         25|     1010.6|     1007.8|      NA|      NA|   17.2|   24.3|       No|      0|          No|\n",
            "|2008-12-03|  Albury|   12.9|   25.7|       0|         NA|      NA|        WSW|           46|         W|       WSW|          19|          26|         38|         30|     1007.6|     1008.7|      NA|       2|     21|   23.2|       No|      0|          No|\n",
            "|2008-12-04|  Albury|    9.2|     28|       0|         NA|      NA|         NE|           24|        SE|         E|          11|           9|         45|         16|     1017.6|     1012.8|      NA|      NA|   18.1|   26.5|       No|      1|          No|\n",
            "|2008-12-05|  Albury|   17.5|   32.3|       1|         NA|      NA|          W|           41|       ENE|        NW|           7|          20|         82|         33|     1010.8|       1006|       7|       8|   17.8|   29.7|       No|    0.2|          No|\n",
            "|2008-12-06|  Albury|   14.6|   29.7|     0.2|         NA|      NA|        WNW|           56|         W|         W|          19|          24|         55|         23|     1009.2|     1005.4|      NA|      NA|   20.6|   28.9|       No|      0|          No|\n",
            "|2008-12-07|  Albury|   14.3|     25|       0|         NA|      NA|          W|           50|        SW|         W|          20|          24|         49|         19|     1009.6|     1008.2|       1|      NA|   18.1|   24.6|       No|      0|          No|\n",
            "|2008-12-08|  Albury|    7.7|   26.7|       0|         NA|      NA|          W|           35|       SSE|         W|           6|          17|         48|         19|     1013.4|     1010.1|      NA|      NA|   16.3|   25.5|       No|      0|          No|\n",
            "|2008-12-09|  Albury|    9.7|   31.9|       0|         NA|      NA|        NNW|           80|        SE|        NW|           7|          28|         42|          9|     1008.9|     1003.6|      NA|      NA|   18.3|   30.2|       No|    1.4|         Yes|\n",
            "|2008-12-10|  Albury|   13.1|   30.1|     1.4|         NA|      NA|          W|           28|         S|       SSE|          15|          11|         58|         27|       1007|     1005.7|      NA|      NA|   20.1|   28.2|      Yes|      0|          No|\n",
            "|2008-12-11|  Albury|   13.4|   30.4|       0|         NA|      NA|          N|           30|       SSE|       ESE|          17|           6|         48|         22|     1011.8|     1008.7|      NA|      NA|   20.4|   28.8|       No|    2.2|         Yes|\n",
            "|2008-12-12|  Albury|   15.9|   21.7|     2.2|         NA|      NA|        NNE|           31|        NE|       ENE|          15|          13|         89|         91|     1010.5|     1004.2|       8|       8|   15.9|     17|      Yes|   15.6|         Yes|\n",
            "|2008-12-13|  Albury|   15.9|   18.6|    15.6|         NA|      NA|          W|           61|       NNW|       NNW|          28|          28|         76|         93|      994.3|        993|       8|       8|   17.4|   15.8|      Yes|    3.6|         Yes|\n",
            "|2008-12-14|  Albury|   12.6|     21|     3.6|         NA|      NA|         SW|           44|         W|       SSW|          24|          20|         65|         43|     1001.2|     1001.8|      NA|       7|   15.8|   19.8|      Yes|      0|          No|\n",
            "|2008-12-16|  Albury|    9.8|   27.7|      NA|         NA|      NA|        WNW|           50|        NA|       WNW|          NA|          22|         50|         28|     1013.4|     1010.3|       0|      NA|   17.3|   26.2|       NA|      0|          No|\n",
            "|2008-12-17|  Albury|   14.1|   20.9|       0|         NA|      NA|        ENE|           22|       SSW|         E|          11|           9|         69|         82|     1012.2|     1010.4|       8|       1|   17.2|   18.1|       No|   16.8|         Yes|\n",
            "|2008-12-18|  Albury|   13.5|   22.9|    16.8|         NA|      NA|          W|           63|         N|       WNW|           6|          20|         80|         65|     1005.8|     1002.2|       8|       1|     18|   21.5|      Yes|   10.6|         Yes|\n",
            "|2008-12-19|  Albury|   11.2|   22.5|    10.6|         NA|      NA|        SSE|           43|       WSW|        SW|          24|          17|         47|         32|     1009.4|     1009.7|      NA|       2|   15.5|     21|      Yes|      0|          No|\n",
            "|2008-12-20|  Albury|    9.8|   25.6|       0|         NA|      NA|        SSE|           26|        SE|       NNW|          17|           6|         45|         26|     1019.2|     1017.1|      NA|      NA|   15.8|   23.2|       No|      0|          No|\n",
            "|2008-12-21|  Albury|   11.5|   29.3|       0|         NA|      NA|          S|           24|        SE|        SE|           9|           9|         56|         28|     1019.3|     1014.8|      NA|      NA|   19.1|   27.3|       No|      0|          No|\n",
            "+----------+--------+-------+-------+--------+-----------+--------+-----------+-------------+----------+----------+------------+------------+-----------+-----------+-----------+-----------+--------+--------+-------+-------+---------+-------+------------+\n",
            "only showing top 20 rows\n",
            "\n"
          ]
        }
      ]
    },
    {
      "cell_type": "code",
      "source": [
        "# Display name and data type of each column\n",
        "\n",
        "data.printSchema()"
      ],
      "metadata": {
        "colab": {
          "base_uri": "https://localhost:8080/"
        },
        "id": "iloI_eGd7Kia",
        "outputId": "ea04d787-ca5f-4f9b-d463-001c9eea0d38"
      },
      "execution_count": 6,
      "outputs": [
        {
          "output_type": "stream",
          "name": "stdout",
          "text": [
            "root\n",
            " |-- Date: string (nullable = true)\n",
            " |-- Location: string (nullable = true)\n",
            " |-- MinTemp: string (nullable = true)\n",
            " |-- MaxTemp: string (nullable = true)\n",
            " |-- Rainfall: string (nullable = true)\n",
            " |-- Evaporation: string (nullable = true)\n",
            " |-- Sunshine: string (nullable = true)\n",
            " |-- WindGustDir: string (nullable = true)\n",
            " |-- WindGustSpeed: string (nullable = true)\n",
            " |-- WindDir9am: string (nullable = true)\n",
            " |-- WindDir3pm: string (nullable = true)\n",
            " |-- WindSpeed9am: string (nullable = true)\n",
            " |-- WindSpeed3pm: string (nullable = true)\n",
            " |-- Humidity9am: string (nullable = true)\n",
            " |-- Humidity3pm: string (nullable = true)\n",
            " |-- Pressure9am: string (nullable = true)\n",
            " |-- Pressure3pm: string (nullable = true)\n",
            " |-- Cloud9am: string (nullable = true)\n",
            " |-- Cloud3pm: string (nullable = true)\n",
            " |-- Temp9am: string (nullable = true)\n",
            " |-- Temp3pm: string (nullable = true)\n",
            " |-- RainToday: string (nullable = true)\n",
            " |-- RISK_MM: string (nullable = true)\n",
            " |-- RainTomorrow: string (nullable = true)\n",
            "\n"
          ]
        }
      ]
    },
    {
      "cell_type": "code",
      "source": [
        "# Change the data type of columns since pyspark is considering all columns as strings\n",
        "\n",
        "schema = StructType([\n",
        "    StructField(\"Date\", DateType()),\n",
        "    StructField(\"Location\", StringType(), True),\n",
        "    StructField(\"MinTemp\", DoubleType(), True),\n",
        "    StructField(\"MaxTemp\", DoubleType(), True),\n",
        "    StructField(\"Rainfall\", DoubleType(), True),\n",
        "    StructField(\"Evaporation\", DoubleType(), True),\n",
        "    StructField(\"Sunshine\", DoubleType(), True),\n",
        "    StructField(\"WindGustDir\", StringType(), True),\n",
        "    StructField(\"WindGustSpeed\", DoubleType(), True),\n",
        "    StructField(\"WindDir9am\", StringType(), True),\n",
        "    StructField(\"WindDir3pm\", StringType(), True),\n",
        "    StructField(\"WindSpeed9am\", DoubleType(), True),\n",
        "    StructField(\"WindSpeed3pm\", DoubleType(), True),\n",
        "    StructField(\"Humidity9am\", DoubleType(), True),\n",
        "    StructField(\"Humidity3pm\", DoubleType(), True),\n",
        "    StructField(\"Pressure9am\", DoubleType(), True),\n",
        "    StructField(\"Pressure3pm\", DoubleType(), True),\n",
        "    StructField(\"Cloud9am\", DoubleType(), True),\n",
        "    StructField(\"Cloud3pm\", DoubleType(), True),\n",
        "    StructField(\"Temp9am\", DoubleType(), True),\n",
        "    StructField(\"Temp3pm\", DoubleType(), True),\n",
        "    StructField(\"RainToday\", StringType(), True),\n",
        "    StructField(\"RISK_MM\", DoubleType(), True),\n",
        "    StructField(\"RainTomorrow\", StringType(), True)\n",
        "])"
      ],
      "metadata": {
        "id": "LLeQ5tEo7L0E"
      },
      "execution_count": 7,
      "outputs": []
    },
    {
      "cell_type": "code",
      "source": [
        "# Read the data\n",
        "\n",
        "data = spark.read.option(\"header\", \"true\").schema(schema).csv(\"/content/weatherAUS.csv\")"
      ],
      "metadata": {
        "id": "XcaOguQ47Pi8"
      },
      "execution_count": 8,
      "outputs": []
    },
    {
      "cell_type": "code",
      "source": [
        "# Check the data type of each column\n",
        "\n",
        "data.printSchema()"
      ],
      "metadata": {
        "colab": {
          "base_uri": "https://localhost:8080/"
        },
        "id": "BRsvBimx7T0w",
        "outputId": "06fe1644-ac78-4f60-b6e2-d9b1ed34809d"
      },
      "execution_count": 9,
      "outputs": [
        {
          "output_type": "stream",
          "name": "stdout",
          "text": [
            "root\n",
            " |-- Date: date (nullable = true)\n",
            " |-- Location: string (nullable = true)\n",
            " |-- MinTemp: double (nullable = true)\n",
            " |-- MaxTemp: double (nullable = true)\n",
            " |-- Rainfall: double (nullable = true)\n",
            " |-- Evaporation: double (nullable = true)\n",
            " |-- Sunshine: double (nullable = true)\n",
            " |-- WindGustDir: string (nullable = true)\n",
            " |-- WindGustSpeed: double (nullable = true)\n",
            " |-- WindDir9am: string (nullable = true)\n",
            " |-- WindDir3pm: string (nullable = true)\n",
            " |-- WindSpeed9am: double (nullable = true)\n",
            " |-- WindSpeed3pm: double (nullable = true)\n",
            " |-- Humidity9am: double (nullable = true)\n",
            " |-- Humidity3pm: double (nullable = true)\n",
            " |-- Pressure9am: double (nullable = true)\n",
            " |-- Pressure3pm: double (nullable = true)\n",
            " |-- Cloud9am: double (nullable = true)\n",
            " |-- Cloud3pm: double (nullable = true)\n",
            " |-- Temp9am: double (nullable = true)\n",
            " |-- Temp3pm: double (nullable = true)\n",
            " |-- RainToday: string (nullable = true)\n",
            " |-- RISK_MM: double (nullable = true)\n",
            " |-- RainTomorrow: string (nullable = true)\n",
            "\n"
          ]
        }
      ]
    },
    {
      "cell_type": "code",
      "source": [
        "# Display data\n",
        "\n",
        "data.show()"
      ],
      "metadata": {
        "colab": {
          "base_uri": "https://localhost:8080/"
        },
        "id": "dKY7T9QK7WzQ",
        "outputId": "eed9c6d2-b9ea-4b87-ebd8-d793f4870dd7"
      },
      "execution_count": 10,
      "outputs": [
        {
          "output_type": "stream",
          "name": "stdout",
          "text": [
            "+----------+--------+-------+-------+--------+-----------+--------+-----------+-------------+----------+----------+------------+------------+-----------+-----------+-----------+-----------+--------+--------+-------+-------+---------+-------+------------+\n",
            "|      Date|Location|MinTemp|MaxTemp|Rainfall|Evaporation|Sunshine|WindGustDir|WindGustSpeed|WindDir9am|WindDir3pm|WindSpeed9am|WindSpeed3pm|Humidity9am|Humidity3pm|Pressure9am|Pressure3pm|Cloud9am|Cloud3pm|Temp9am|Temp3pm|RainToday|RISK_MM|RainTomorrow|\n",
            "+----------+--------+-------+-------+--------+-----------+--------+-----------+-------------+----------+----------+------------+------------+-----------+-----------+-----------+-----------+--------+--------+-------+-------+---------+-------+------------+\n",
            "|2008-12-01|  Albury|   13.4|   22.9|     0.6|       NULL|    NULL|          W|         44.0|         W|       WNW|        20.0|        24.0|       71.0|       22.0|     1007.7|     1007.1|     8.0|    NULL|   16.9|   21.8|       No|    0.0|          No|\n",
            "|2008-12-02|  Albury|    7.4|   25.1|     0.0|       NULL|    NULL|        WNW|         44.0|       NNW|       WSW|         4.0|        22.0|       44.0|       25.0|     1010.6|     1007.8|    NULL|    NULL|   17.2|   24.3|       No|    0.0|          No|\n",
            "|2008-12-03|  Albury|   12.9|   25.7|     0.0|       NULL|    NULL|        WSW|         46.0|         W|       WSW|        19.0|        26.0|       38.0|       30.0|     1007.6|     1008.7|    NULL|     2.0|   21.0|   23.2|       No|    0.0|          No|\n",
            "|2008-12-04|  Albury|    9.2|   28.0|     0.0|       NULL|    NULL|         NE|         24.0|        SE|         E|        11.0|         9.0|       45.0|       16.0|     1017.6|     1012.8|    NULL|    NULL|   18.1|   26.5|       No|    1.0|          No|\n",
            "|2008-12-05|  Albury|   17.5|   32.3|     1.0|       NULL|    NULL|          W|         41.0|       ENE|        NW|         7.0|        20.0|       82.0|       33.0|     1010.8|     1006.0|     7.0|     8.0|   17.8|   29.7|       No|    0.2|          No|\n",
            "|2008-12-06|  Albury|   14.6|   29.7|     0.2|       NULL|    NULL|        WNW|         56.0|         W|         W|        19.0|        24.0|       55.0|       23.0|     1009.2|     1005.4|    NULL|    NULL|   20.6|   28.9|       No|    0.0|          No|\n",
            "|2008-12-07|  Albury|   14.3|   25.0|     0.0|       NULL|    NULL|          W|         50.0|        SW|         W|        20.0|        24.0|       49.0|       19.0|     1009.6|     1008.2|     1.0|    NULL|   18.1|   24.6|       No|    0.0|          No|\n",
            "|2008-12-08|  Albury|    7.7|   26.7|     0.0|       NULL|    NULL|          W|         35.0|       SSE|         W|         6.0|        17.0|       48.0|       19.0|     1013.4|     1010.1|    NULL|    NULL|   16.3|   25.5|       No|    0.0|          No|\n",
            "|2008-12-09|  Albury|    9.7|   31.9|     0.0|       NULL|    NULL|        NNW|         80.0|        SE|        NW|         7.0|        28.0|       42.0|        9.0|     1008.9|     1003.6|    NULL|    NULL|   18.3|   30.2|       No|    1.4|         Yes|\n",
            "|2008-12-10|  Albury|   13.1|   30.1|     1.4|       NULL|    NULL|          W|         28.0|         S|       SSE|        15.0|        11.0|       58.0|       27.0|     1007.0|     1005.7|    NULL|    NULL|   20.1|   28.2|      Yes|    0.0|          No|\n",
            "|2008-12-11|  Albury|   13.4|   30.4|     0.0|       NULL|    NULL|          N|         30.0|       SSE|       ESE|        17.0|         6.0|       48.0|       22.0|     1011.8|     1008.7|    NULL|    NULL|   20.4|   28.8|       No|    2.2|         Yes|\n",
            "|2008-12-12|  Albury|   15.9|   21.7|     2.2|       NULL|    NULL|        NNE|         31.0|        NE|       ENE|        15.0|        13.0|       89.0|       91.0|     1010.5|     1004.2|     8.0|     8.0|   15.9|   17.0|      Yes|   15.6|         Yes|\n",
            "|2008-12-13|  Albury|   15.9|   18.6|    15.6|       NULL|    NULL|          W|         61.0|       NNW|       NNW|        28.0|        28.0|       76.0|       93.0|      994.3|      993.0|     8.0|     8.0|   17.4|   15.8|      Yes|    3.6|         Yes|\n",
            "|2008-12-14|  Albury|   12.6|   21.0|     3.6|       NULL|    NULL|         SW|         44.0|         W|       SSW|        24.0|        20.0|       65.0|       43.0|     1001.2|     1001.8|    NULL|     7.0|   15.8|   19.8|      Yes|    0.0|          No|\n",
            "|2008-12-16|  Albury|    9.8|   27.7|    NULL|       NULL|    NULL|        WNW|         50.0|        NA|       WNW|        NULL|        22.0|       50.0|       28.0|     1013.4|     1010.3|     0.0|    NULL|   17.3|   26.2|       NA|    0.0|          No|\n",
            "|2008-12-17|  Albury|   14.1|   20.9|     0.0|       NULL|    NULL|        ENE|         22.0|       SSW|         E|        11.0|         9.0|       69.0|       82.0|     1012.2|     1010.4|     8.0|     1.0|   17.2|   18.1|       No|   16.8|         Yes|\n",
            "|2008-12-18|  Albury|   13.5|   22.9|    16.8|       NULL|    NULL|          W|         63.0|         N|       WNW|         6.0|        20.0|       80.0|       65.0|     1005.8|     1002.2|     8.0|     1.0|   18.0|   21.5|      Yes|   10.6|         Yes|\n",
            "|2008-12-19|  Albury|   11.2|   22.5|    10.6|       NULL|    NULL|        SSE|         43.0|       WSW|        SW|        24.0|        17.0|       47.0|       32.0|     1009.4|     1009.7|    NULL|     2.0|   15.5|   21.0|      Yes|    0.0|          No|\n",
            "|2008-12-20|  Albury|    9.8|   25.6|     0.0|       NULL|    NULL|        SSE|         26.0|        SE|       NNW|        17.0|         6.0|       45.0|       26.0|     1019.2|     1017.1|    NULL|    NULL|   15.8|   23.2|       No|    0.0|          No|\n",
            "|2008-12-21|  Albury|   11.5|   29.3|     0.0|       NULL|    NULL|          S|         24.0|        SE|        SE|         9.0|         9.0|       56.0|       28.0|     1019.3|     1014.8|    NULL|    NULL|   19.1|   27.3|       No|    0.0|          No|\n",
            "+----------+--------+-------+-------+--------+-----------+--------+-----------+-------------+----------+----------+------------+------------+-----------+-----------+-----------+-----------+--------+--------+-------+-------+---------+-------+------------+\n",
            "only showing top 20 rows\n",
            "\n"
          ]
        }
      ]
    },
    {
      "cell_type": "code",
      "source": [
        "# Number of rows and columns in the dataset\n",
        "\n",
        "print(\"Number of rows and columns in the dataset:\\n\")\n",
        "print(data.count(),len(data.columns))"
      ],
      "metadata": {
        "colab": {
          "base_uri": "https://localhost:8080/"
        },
        "id": "2MQLRcki7dg3",
        "outputId": "4b090e5b-fcf9-4f73-c375-f0923358eced"
      },
      "execution_count": 11,
      "outputs": [
        {
          "output_type": "stream",
          "name": "stdout",
          "text": [
            "Number of rows and columns in the dataset:\n",
            "\n",
            "142193 24\n"
          ]
        }
      ]
    },
    {
      "cell_type": "markdown",
      "source": [
        "**1. Explore the dataset to find what are the categorical variables in the dataset. List\n",
        "categorical variable names.**"
      ],
      "metadata": {
        "id": "jkX-NinHItYz"
      }
    },
    {
      "cell_type": "code",
      "source": [
        "# Print Categorical variable names\n",
        "\n",
        "categorical_variables = [col_name for col_name, data_type in data.dtypes if data_type == \"string\"]\n",
        "print(\"categorical_variables:\\n\\n\",categorical_variables)"
      ],
      "metadata": {
        "colab": {
          "base_uri": "https://localhost:8080/"
        },
        "id": "unDQzGvu7e72",
        "outputId": "e6b31c42-4ee0-4c45-9772-55a9289c9848"
      },
      "execution_count": 12,
      "outputs": [
        {
          "output_type": "stream",
          "name": "stdout",
          "text": [
            "categorical_variables:\n",
            "\n",
            " ['Location', 'WindGustDir', 'WindDir9am', 'WindDir3pm', 'RainToday', 'RainTomorrow']\n"
          ]
        }
      ]
    },
    {
      "cell_type": "markdown",
      "source": [
        "**2. Explore how many categorical variables have null values.**"
      ],
      "metadata": {
        "id": "5cp0dOtQJPd5"
      }
    },
    {
      "cell_type": "code",
      "source": [
        "# Number of null values in each categorical variables\n",
        "\n",
        "categorical_variables_null_values = {col: data.filter(data[col] == \"NA\").count() for col in categorical_variables}\n",
        "print(\"Null values in categorical variables:\\n\")\n",
        "print(categorical_variables_null_values)"
      ],
      "metadata": {
        "colab": {
          "base_uri": "https://localhost:8080/"
        },
        "id": "eRyPJL0c7h44",
        "outputId": "6e2106e2-85a5-49e5-d172-4adbebff9087"
      },
      "execution_count": 13,
      "outputs": [
        {
          "output_type": "stream",
          "name": "stdout",
          "text": [
            "Null values in categorical variables:\n",
            "\n",
            "{'Location': 0, 'WindGustDir': 9330, 'WindDir9am': 10013, 'WindDir3pm': 3778, 'RainToday': 1406, 'RainTomorrow': 0}\n"
          ]
        }
      ]
    },
    {
      "cell_type": "markdown",
      "source": [
        "**3. Get the frequency count of each categorical variable. For instance, how many discrete\n",
        "values in each categorical variable and how many datapoints from each distinct value.**"
      ],
      "metadata": {
        "id": "MZTUosBjJq_3"
      }
    },
    {
      "cell_type": "code",
      "source": [
        "# Number of distinct values and Frequency count of each categorical variable\n",
        "\n",
        "for col_name in categorical_variables:\n",
        "    print(f\"Number of distinct values in {col_name}: {data.select(col_name).distinct().count()}\")\n",
        "    print(f\"Frequency count for {col_name}:\")\n",
        "    data.groupBy(col_name).count().show()"
      ],
      "metadata": {
        "colab": {
          "base_uri": "https://localhost:8080/"
        },
        "id": "tFrPwmuO7nlF",
        "outputId": "82c12fb1-44fd-43a0-fa18-1b93754be1f3"
      },
      "execution_count": 14,
      "outputs": [
        {
          "output_type": "stream",
          "name": "stdout",
          "text": [
            "Number of distinct values in Location: 49\n",
            "Frequency count for Location:\n",
            "+----------------+-----+\n",
            "|        Location|count|\n",
            "+----------------+-----+\n",
            "|          Cairns| 2988|\n",
            "|   NorfolkIsland| 2964|\n",
            "|         Bendigo| 3034|\n",
            "|        Canberra| 3418|\n",
            "|           Cobar| 2988|\n",
            "|   SydneyAirport| 3005|\n",
            "|      Wollongong| 2983|\n",
            "|     Williamtown| 2553|\n",
            "|           Moree| 2854|\n",
            "|         Mildura| 3007|\n",
            "|        Portland| 2996|\n",
            "|        Brisbane| 3161|\n",
            "|          Sydney| 3337|\n",
            "|            Sale| 3000|\n",
            "|   BadgerysCreek| 2928|\n",
            "|     Tuggeranong| 2998|\n",
            "|        Ballarat| 3028|\n",
            "|       GoldCoast| 2980|\n",
            "|MelbourneAirport| 3009|\n",
            "|        Dartmoor| 2943|\n",
            "+----------------+-----+\n",
            "only showing top 20 rows\n",
            "\n",
            "Number of distinct values in WindGustDir: 17\n",
            "Frequency count for WindGustDir:\n",
            "+-----------+-----+\n",
            "|WindGustDir|count|\n",
            "+-----------+-----+\n",
            "|        SSE| 8993|\n",
            "|         SW| 8797|\n",
            "|         NW| 8003|\n",
            "|         NA| 9330|\n",
            "|          E| 9071|\n",
            "|        WSW| 8901|\n",
            "|        ENE| 7992|\n",
            "|         NE| 7060|\n",
            "|        NNW| 6561|\n",
            "|          N| 9033|\n",
            "|        SSW| 8610|\n",
            "|          W| 9780|\n",
            "|          S| 8949|\n",
            "|         SE| 9309|\n",
            "|        WNW| 8066|\n",
            "|        NNE| 6433|\n",
            "|        ESE| 7305|\n",
            "+-----------+-----+\n",
            "\n",
            "Number of distinct values in WindDir9am: 17\n",
            "Frequency count for WindDir9am:\n",
            "+----------+-----+\n",
            "|WindDir9am|count|\n",
            "+----------+-----+\n",
            "|       SSE| 8966|\n",
            "|        SW| 8237|\n",
            "|        NW| 8552|\n",
            "|        NA|10013|\n",
            "|         E| 9024|\n",
            "|       WSW| 6843|\n",
            "|       ENE| 7735|\n",
            "|        NE| 7527|\n",
            "|       NNW| 7840|\n",
            "|         N|11393|\n",
            "|       SSW| 7448|\n",
            "|         W| 8260|\n",
            "|         S| 8493|\n",
            "|        SE| 9162|\n",
            "|       WNW| 7194|\n",
            "|       NNE| 7948|\n",
            "|       ESE| 7558|\n",
            "+----------+-----+\n",
            "\n",
            "Number of distinct values in WindDir3pm: 17\n",
            "Frequency count for WindDir3pm:\n",
            "+----------+-----+\n",
            "|WindDir3pm|count|\n",
            "+----------+-----+\n",
            "|       SSE| 9142|\n",
            "|        NW| 8468|\n",
            "|        SW| 9182|\n",
            "|        NA| 3778|\n",
            "|         E| 8342|\n",
            "|       WSW| 9329|\n",
            "|       ENE| 7724|\n",
            "|        NE| 8164|\n",
            "|       NNW| 7733|\n",
            "|         N| 8667|\n",
            "|       SSW| 8010|\n",
            "|         W| 9911|\n",
            "|         S| 9598|\n",
            "|        SE|10663|\n",
            "|       WNW| 8656|\n",
            "|       NNE| 6444|\n",
            "|       ESE| 8382|\n",
            "+----------+-----+\n",
            "\n",
            "Number of distinct values in RainToday: 3\n",
            "Frequency count for RainToday:\n",
            "+---------+------+\n",
            "|RainToday| count|\n",
            "+---------+------+\n",
            "|       NA|  1406|\n",
            "|       No|109332|\n",
            "|      Yes| 31455|\n",
            "+---------+------+\n",
            "\n",
            "Number of distinct values in RainTomorrow: 2\n",
            "Frequency count for RainTomorrow:\n",
            "+------------+------+\n",
            "|RainTomorrow| count|\n",
            "+------------+------+\n",
            "|          No|110316|\n",
            "|         Yes| 31877|\n",
            "+------------+------+\n",
            "\n"
          ]
        }
      ]
    },
    {
      "cell_type": "markdown",
      "source": [
        "**4. Print the first five rows of the dataset**"
      ],
      "metadata": {
        "id": "uOuF_K0pKHMX"
      }
    },
    {
      "cell_type": "code",
      "source": [
        "# First five rows of the dataset\n",
        "\n",
        "print(\"First five rows of the dataset:\\n\")\n",
        "data.show(5)"
      ],
      "metadata": {
        "colab": {
          "base_uri": "https://localhost:8080/"
        },
        "id": "c0scA9c87uEn",
        "outputId": "dc71a269-4d90-4e27-ae48-93fa4e985243"
      },
      "execution_count": 15,
      "outputs": [
        {
          "output_type": "stream",
          "name": "stdout",
          "text": [
            "First five rows of the dataset:\n",
            "\n",
            "+----------+--------+-------+-------+--------+-----------+--------+-----------+-------------+----------+----------+------------+------------+-----------+-----------+-----------+-----------+--------+--------+-------+-------+---------+-------+------------+\n",
            "|      Date|Location|MinTemp|MaxTemp|Rainfall|Evaporation|Sunshine|WindGustDir|WindGustSpeed|WindDir9am|WindDir3pm|WindSpeed9am|WindSpeed3pm|Humidity9am|Humidity3pm|Pressure9am|Pressure3pm|Cloud9am|Cloud3pm|Temp9am|Temp3pm|RainToday|RISK_MM|RainTomorrow|\n",
            "+----------+--------+-------+-------+--------+-----------+--------+-----------+-------------+----------+----------+------------+------------+-----------+-----------+-----------+-----------+--------+--------+-------+-------+---------+-------+------------+\n",
            "|2008-12-01|  Albury|   13.4|   22.9|     0.6|       NULL|    NULL|          W|         44.0|         W|       WNW|        20.0|        24.0|       71.0|       22.0|     1007.7|     1007.1|     8.0|    NULL|   16.9|   21.8|       No|    0.0|          No|\n",
            "|2008-12-02|  Albury|    7.4|   25.1|     0.0|       NULL|    NULL|        WNW|         44.0|       NNW|       WSW|         4.0|        22.0|       44.0|       25.0|     1010.6|     1007.8|    NULL|    NULL|   17.2|   24.3|       No|    0.0|          No|\n",
            "|2008-12-03|  Albury|   12.9|   25.7|     0.0|       NULL|    NULL|        WSW|         46.0|         W|       WSW|        19.0|        26.0|       38.0|       30.0|     1007.6|     1008.7|    NULL|     2.0|   21.0|   23.2|       No|    0.0|          No|\n",
            "|2008-12-04|  Albury|    9.2|   28.0|     0.0|       NULL|    NULL|         NE|         24.0|        SE|         E|        11.0|         9.0|       45.0|       16.0|     1017.6|     1012.8|    NULL|    NULL|   18.1|   26.5|       No|    1.0|          No|\n",
            "|2008-12-05|  Albury|   17.5|   32.3|     1.0|       NULL|    NULL|          W|         41.0|       ENE|        NW|         7.0|        20.0|       82.0|       33.0|     1010.8|     1006.0|     7.0|     8.0|   17.8|   29.7|       No|    0.2|          No|\n",
            "+----------+--------+-------+-------+--------+-----------+--------+-----------+-------------+----------+----------+------------+------------+-----------+-----------+-----------+-----------+--------+--------+-------+-------+---------+-------+------------+\n",
            "only showing top 5 rows\n",
            "\n"
          ]
        }
      ]
    },
    {
      "cell_type": "markdown",
      "source": [
        "**5. What are the available columns of the dataset?**"
      ],
      "metadata": {
        "id": "VF-I-ktuKUm3"
      }
    },
    {
      "cell_type": "code",
      "source": [
        "# Columns in dataset\n",
        "\n",
        "print(\"Columns of the dataset:\\n\\n\", data.columns)"
      ],
      "metadata": {
        "colab": {
          "base_uri": "https://localhost:8080/"
        },
        "id": "EQqhv6F_7xy8",
        "outputId": "81c13d61-84a7-4c4d-a774-429eaadf1b27"
      },
      "execution_count": 16,
      "outputs": [
        {
          "output_type": "stream",
          "name": "stdout",
          "text": [
            "Columns of the dataset:\n",
            "\n",
            " ['Date', 'Location', 'MinTemp', 'MaxTemp', 'Rainfall', 'Evaporation', 'Sunshine', 'WindGustDir', 'WindGustSpeed', 'WindDir9am', 'WindDir3pm', 'WindSpeed9am', 'WindSpeed3pm', 'Humidity9am', 'Humidity3pm', 'Pressure9am', 'Pressure3pm', 'Cloud9am', 'Cloud3pm', 'Temp9am', 'Temp3pm', 'RainToday', 'RISK_MM', 'RainTomorrow']\n"
          ]
        }
      ]
    },
    {
      "cell_type": "markdown",
      "source": [
        "**6. Drop RISK_MM variable column**"
      ],
      "metadata": {
        "id": "_Wym8Uo8KfG7"
      }
    },
    {
      "cell_type": "code",
      "source": [
        "# Drop RISK_MM column\n",
        "data=data.drop(\"RISK_MM\")\n",
        "\n",
        "# Print columns in dataset\n",
        "print(\"Columns of the dataset after droping RISK_MM column:\\n\")\n",
        "print(data.columns)"
      ],
      "metadata": {
        "colab": {
          "base_uri": "https://localhost:8080/"
        },
        "id": "DIetKvTI70hb",
        "outputId": "e1e0903f-f9f6-4c46-b252-989d1e7f9987"
      },
      "execution_count": 17,
      "outputs": [
        {
          "output_type": "stream",
          "name": "stdout",
          "text": [
            "Columns of the dataset after droping RISK_MM column:\n",
            "\n",
            "['Date', 'Location', 'MinTemp', 'MaxTemp', 'Rainfall', 'Evaporation', 'Sunshine', 'WindGustDir', 'WindGustSpeed', 'WindDir9am', 'WindDir3pm', 'WindSpeed9am', 'WindSpeed3pm', 'Humidity9am', 'Humidity3pm', 'Pressure9am', 'Pressure3pm', 'Cloud9am', 'Cloud3pm', 'Temp9am', 'Temp3pm', 'RainToday', 'RainTomorrow']\n"
          ]
        }
      ]
    },
    {
      "cell_type": "markdown",
      "source": [
        "**7. Get the summary of the dataset.**"
      ],
      "metadata": {
        "id": "n_bQ7WzvKt8f"
      }
    },
    {
      "cell_type": "code",
      "source": [
        "# Display dataset summary\n",
        "\n",
        "print(\"Summary:\\n\")\n",
        "data.summary().show()"
      ],
      "metadata": {
        "colab": {
          "base_uri": "https://localhost:8080/"
        },
        "id": "g4Rp4ppUK5Ia",
        "outputId": "48c2e554-e4d9-42f0-d4ee-5a8ca86967f2"
      },
      "execution_count": 18,
      "outputs": [
        {
          "output_type": "stream",
          "name": "stdout",
          "text": [
            "Summary:\n",
            "\n",
            "+-------+--------+------------------+-----------------+-----------------+------------------+------------------+-----------+------------------+----------+----------+-----------------+-----------------+------------------+------------------+------------------+-----------------+------------------+-----------------+-----------------+-----------------+---------+------------+\n",
            "|summary|Location|           MinTemp|          MaxTemp|         Rainfall|       Evaporation|          Sunshine|WindGustDir|     WindGustSpeed|WindDir9am|WindDir3pm|     WindSpeed9am|     WindSpeed3pm|       Humidity9am|       Humidity3pm|       Pressure9am|      Pressure3pm|          Cloud9am|         Cloud3pm|          Temp9am|          Temp3pm|RainToday|RainTomorrow|\n",
            "+-------+--------+------------------+-----------------+-----------------+------------------+------------------+-----------+------------------+----------+----------+-----------------+-----------------+------------------+------------------+------------------+-----------------+------------------+-----------------+-----------------+-----------------+---------+------------+\n",
            "|  count|  142193|            141556|           141871|           140787|             81350|             74377|     142193|            132923|    142193|    142193|           140845|           139563|            140419|            138583|            128179|           128212|             88536|            85099|           141289|           139467|   142193|      142193|\n",
            "|   mean|    NULL|12.186399728729263|23.22678419127248|2.349974074310995|5.4698242163490995| 7.624853113193616|       NULL| 39.98429165757619|      NULL|      NULL|  14.001988000994|18.63757586179718|  68.8438103105705|51.482606091656265|1017.6537584159663|1015.258203537901| 4.437189391885787|4.503166899728551|16.98750858170129|21.68723497314778|     NULL|        NULL|\n",
            "| stddev|    NULL| 6.403282674671343|7.117618141018147|8.465172917616444| 4.188536508895148|3.7815249942144633|       NULL|13.588800765487786|      NULL|      NULL|8.893337098234486|8.803345036235541|19.051292535336284|20.797771843698907|7.1054757115203016|7.036676783493396|2.8870155257336068|2.720632530403662|6.492838325478932|6.937593868533731|     NULL|        NULL|\n",
            "|    min|Adelaide|              -8.5|             -4.8|              0.0|               0.0|               0.0|          E|               6.0|         E|         E|              0.0|              0.0|               0.0|               0.0|             980.5|            977.1|               0.0|              0.0|             -7.2|             -5.4|       NA|          No|\n",
            "|    25%|    NULL|               7.6|             17.9|              0.0|               2.6|               4.9|       NULL|              31.0|      NULL|      NULL|              7.0|             13.0|              57.0|              37.0|            1012.9|           1010.4|               1.0|              2.0|             12.3|             16.6|     NULL|        NULL|\n",
            "|    50%|    NULL|              12.0|             22.6|              0.0|               4.8|               8.5|       NULL|              39.0|      NULL|      NULL|             13.0|             19.0|              70.0|              52.0|            1017.6|           1015.2|               5.0|              5.0|             16.7|             21.1|     NULL|        NULL|\n",
            "|    75%|    NULL|              16.8|             28.2|              0.8|               7.4|              10.6|       NULL|              48.0|      NULL|      NULL|             19.0|             24.0|              83.0|              66.0|            1022.4|           1020.0|               7.0|              7.0|             21.6|             26.4|     NULL|        NULL|\n",
            "|    max| Woomera|              33.9|             48.1|            371.0|             145.0|              14.5|        WSW|             135.0|       WSW|       WSW|            130.0|             87.0|             100.0|             100.0|            1041.0|           1039.6|               9.0|              9.0|             40.2|             46.7|      Yes|         Yes|\n",
            "+-------+--------+------------------+-----------------+-----------------+------------------+------------------+-----------+------------------+----------+----------+-----------------+-----------------+------------------+------------------+------------------+-----------------+------------------+-----------------+-----------------+-----------------+---------+------------+\n",
            "\n"
          ]
        }
      ]
    },
    {
      "cell_type": "markdown",
      "source": [
        "**8. List first five rows only for categorical variables.**"
      ],
      "metadata": {
        "id": "ul-LBE0ZLLgu"
      }
    },
    {
      "cell_type": "code",
      "source": [
        "# First five rows of categorical variables\n",
        "\n",
        "print(\"First five rows for categorical variables:\\n\")\n",
        "data.select(categorical_variables).show(5)"
      ],
      "metadata": {
        "colab": {
          "base_uri": "https://localhost:8080/"
        },
        "id": "q6MTFbMQ74t8",
        "outputId": "4001d72a-f997-42a4-9344-1827cbe25e14"
      },
      "execution_count": 19,
      "outputs": [
        {
          "output_type": "stream",
          "name": "stdout",
          "text": [
            "First five rows for categorical variables:\n",
            "\n",
            "+--------+-----------+----------+----------+---------+------------+\n",
            "|Location|WindGustDir|WindDir9am|WindDir3pm|RainToday|RainTomorrow|\n",
            "+--------+-----------+----------+----------+---------+------------+\n",
            "|  Albury|          W|         W|       WNW|       No|          No|\n",
            "|  Albury|        WNW|       NNW|       WSW|       No|          No|\n",
            "|  Albury|        WSW|         W|       WSW|       No|          No|\n",
            "|  Albury|         NE|        SE|         E|       No|          No|\n",
            "|  Albury|          W|       ENE|        NW|       No|          No|\n",
            "+--------+-----------+----------+----------+---------+------------+\n",
            "only showing top 5 rows\n",
            "\n"
          ]
        }
      ]
    },
    {
      "cell_type": "markdown",
      "source": [
        "**9. Decompose the date field into year, month, and day fields. Then drop the original date\n",
        "field.**"
      ],
      "metadata": {
        "id": "VVjWBoSvMlHF"
      }
    },
    {
      "cell_type": "code",
      "source": [
        "from pyspark.sql.functions import year, month, dayofmonth\n",
        "\n",
        "# Decompose the Date field into Year, Month, and Day fields\n",
        "data = data.withColumn('Year', year('Date')).withColumn('Month', month('Date')).withColumn('Day', dayofmonth('Date'))\n",
        "\n",
        "# Drop the original Date field\n",
        "data = data.drop('Date')\n",
        "data.show(5)"
      ],
      "metadata": {
        "colab": {
          "base_uri": "https://localhost:8080/"
        },
        "id": "if48hdWV78Jh",
        "outputId": "11a28d65-ad49-4dd0-c989-a99b88df48b0"
      },
      "execution_count": 20,
      "outputs": [
        {
          "output_type": "stream",
          "name": "stdout",
          "text": [
            "+--------+-------+-------+--------+-----------+--------+-----------+-------------+----------+----------+------------+------------+-----------+-----------+-----------+-----------+--------+--------+-------+-------+---------+------------+----+-----+---+\n",
            "|Location|MinTemp|MaxTemp|Rainfall|Evaporation|Sunshine|WindGustDir|WindGustSpeed|WindDir9am|WindDir3pm|WindSpeed9am|WindSpeed3pm|Humidity9am|Humidity3pm|Pressure9am|Pressure3pm|Cloud9am|Cloud3pm|Temp9am|Temp3pm|RainToday|RainTomorrow|Year|Month|Day|\n",
            "+--------+-------+-------+--------+-----------+--------+-----------+-------------+----------+----------+------------+------------+-----------+-----------+-----------+-----------+--------+--------+-------+-------+---------+------------+----+-----+---+\n",
            "|  Albury|   13.4|   22.9|     0.6|       NULL|    NULL|          W|         44.0|         W|       WNW|        20.0|        24.0|       71.0|       22.0|     1007.7|     1007.1|     8.0|    NULL|   16.9|   21.8|       No|          No|2008|   12|  1|\n",
            "|  Albury|    7.4|   25.1|     0.0|       NULL|    NULL|        WNW|         44.0|       NNW|       WSW|         4.0|        22.0|       44.0|       25.0|     1010.6|     1007.8|    NULL|    NULL|   17.2|   24.3|       No|          No|2008|   12|  2|\n",
            "|  Albury|   12.9|   25.7|     0.0|       NULL|    NULL|        WSW|         46.0|         W|       WSW|        19.0|        26.0|       38.0|       30.0|     1007.6|     1008.7|    NULL|     2.0|   21.0|   23.2|       No|          No|2008|   12|  3|\n",
            "|  Albury|    9.2|   28.0|     0.0|       NULL|    NULL|         NE|         24.0|        SE|         E|        11.0|         9.0|       45.0|       16.0|     1017.6|     1012.8|    NULL|    NULL|   18.1|   26.5|       No|          No|2008|   12|  4|\n",
            "|  Albury|   17.5|   32.3|     1.0|       NULL|    NULL|          W|         41.0|       ENE|        NW|         7.0|        20.0|       82.0|       33.0|     1010.8|     1006.0|     7.0|     8.0|   17.8|   29.7|       No|          No|2008|   12|  5|\n",
            "+--------+-------+-------+--------+-----------+--------+-----------+-------------+----------+----------+------------+------------+-----------+-----------+-----------+-----------+--------+--------+-------+-------+---------+------------+----+-----+---+\n",
            "only showing top 5 rows\n",
            "\n"
          ]
        }
      ]
    },
    {
      "cell_type": "markdown",
      "source": [
        "**10. How many unique locations are there in the dataset?**"
      ],
      "metadata": {
        "id": "grCv8yioM5uG"
      }
    },
    {
      "cell_type": "code",
      "source": [
        "# Number of unique locations in the dataset\n",
        "\n",
        "print(\"Number of Unique Locations:\\n\")\n",
        "data.select(col('Location')).distinct().count()"
      ],
      "metadata": {
        "colab": {
          "base_uri": "https://localhost:8080/"
        },
        "id": "0s05kaqH8Bhz",
        "outputId": "20882f1c-b2de-438b-e879-68c50f1a6662"
      },
      "execution_count": 21,
      "outputs": [
        {
          "output_type": "stream",
          "name": "stdout",
          "text": [
            "Number of Unique Locations:\n",
            "\n"
          ]
        },
        {
          "output_type": "execute_result",
          "data": {
            "text/plain": [
              "49"
            ]
          },
          "metadata": {},
          "execution_count": 21
        }
      ]
    },
    {
      "cell_type": "markdown",
      "source": [
        "**11. Print the number of times each unique location appears in the dataset.**"
      ],
      "metadata": {
        "id": "jCbW28oYNPvT"
      }
    },
    {
      "cell_type": "code",
      "source": [
        "# Number of times each unique location appears in the dataset\n",
        "\n",
        "print(\"Count of each Unique Location:\\n\")\n",
        "data.groupBy('Location').count().show()"
      ],
      "metadata": {
        "colab": {
          "base_uri": "https://localhost:8080/"
        },
        "id": "-e0eBIjL8Csc",
        "outputId": "b197caed-449e-4182-adfa-2d786b9c8caa"
      },
      "execution_count": 22,
      "outputs": [
        {
          "output_type": "stream",
          "name": "stdout",
          "text": [
            "Count of each Unique Location:\n",
            "\n",
            "+----------------+-----+\n",
            "|        Location|count|\n",
            "+----------------+-----+\n",
            "|          Cairns| 2988|\n",
            "|   NorfolkIsland| 2964|\n",
            "|         Bendigo| 3034|\n",
            "|        Canberra| 3418|\n",
            "|           Cobar| 2988|\n",
            "|   SydneyAirport| 3005|\n",
            "|      Wollongong| 2983|\n",
            "|     Williamtown| 2553|\n",
            "|           Moree| 2854|\n",
            "|         Mildura| 3007|\n",
            "|        Portland| 2996|\n",
            "|        Brisbane| 3161|\n",
            "|          Sydney| 3337|\n",
            "|            Sale| 3000|\n",
            "|   BadgerysCreek| 2928|\n",
            "|     Tuggeranong| 2998|\n",
            "|        Ballarat| 3028|\n",
            "|       GoldCoast| 2980|\n",
            "|MelbourneAirport| 3009|\n",
            "|        Dartmoor| 2943|\n",
            "+----------------+-----+\n",
            "only showing top 20 rows\n",
            "\n"
          ]
        }
      ]
    },
    {
      "cell_type": "markdown",
      "source": [
        "**12. Perform One Hot Encoding for each categorical variable.**"
      ],
      "metadata": {
        "id": "rxER7r9bNgRw"
      }
    },
    {
      "cell_type": "code",
      "source": [
        "# Index Categorical variables\n",
        "from pyspark.ml.feature import StringIndexer\n",
        "\n",
        "indexers = [StringIndexer(inputCol=col, outputCol=col+\"_index\", handleInvalid=\"keep\") for col in categorical_variables]\n",
        "indexer_pipeline = Pipeline(stages=indexers)\n",
        "indexed_df = indexer_pipeline.fit(data).transform(data)"
      ],
      "metadata": {
        "id": "CXa4TFJY8G3N"
      },
      "execution_count": 23,
      "outputs": []
    },
    {
      "cell_type": "code",
      "source": [
        "# One Hot Encoding for indexed categorical variables\n",
        "encoder = OneHotEncoder(inputCols=[col+\"_index\" for col in categorical_variables],\n",
        "                        outputCols=[col+\"_encoded\" for col in categorical_variables])\n",
        "encoded_data = encoder.fit(indexed_df).transform(indexed_df)"
      ],
      "metadata": {
        "id": "xdzyHho_8fWk"
      },
      "execution_count": 24,
      "outputs": []
    },
    {
      "cell_type": "code",
      "source": [
        "# Display encoded data\n",
        "\n",
        "print(\"Encoded data\\n\")\n",
        "encoded_data.show(5)"
      ],
      "metadata": {
        "colab": {
          "base_uri": "https://localhost:8080/"
        },
        "id": "lxxr7hKH8pOi",
        "outputId": "19712e3d-707d-4739-b3df-b1ce84f157d7"
      },
      "execution_count": 25,
      "outputs": [
        {
          "output_type": "stream",
          "name": "stdout",
          "text": [
            "Encoded data\n",
            "\n",
            "+--------+-------+-------+--------+-----------+--------+-----------+-------------+----------+----------+------------+------------+-----------+-----------+-----------+-----------+--------+--------+-------+-------+---------+------------+----+-----+---+--------------+-----------------+----------------+----------------+---------------+------------------+----------------+-------------------+------------------+------------------+-----------------+--------------------+\n",
            "|Location|MinTemp|MaxTemp|Rainfall|Evaporation|Sunshine|WindGustDir|WindGustSpeed|WindDir9am|WindDir3pm|WindSpeed9am|WindSpeed3pm|Humidity9am|Humidity3pm|Pressure9am|Pressure3pm|Cloud9am|Cloud3pm|Temp9am|Temp3pm|RainToday|RainTomorrow|Year|Month|Day|Location_index|WindGustDir_index|WindDir9am_index|WindDir3pm_index|RainToday_index|RainTomorrow_index|Location_encoded|WindGustDir_encoded|WindDir9am_encoded|WindDir3pm_encoded|RainToday_encoded|RainTomorrow_encoded|\n",
            "+--------+-------+-------+--------+-----------+--------+-----------+-------------+----------+----------+------------+------------+-----------+-----------+-----------+-----------+--------+--------+-------+-------+---------+------------+----+-----+---+--------------+-----------------+----------------+----------------+---------------+------------------+----------------+-------------------+------------------+------------------+-----------------+--------------------+\n",
            "|  Albury|   13.4|   22.9|     0.6|       NULL|    NULL|          W|         44.0|         W|       WNW|        20.0|        24.0|       71.0|       22.0|     1007.7|     1007.1|     8.0|    NULL|   16.9|   21.8|       No|          No|2008|   12|  1|          14.0|              0.0|             7.0|             7.0|            0.0|               0.0| (49,[14],[1.0])|     (17,[0],[1.0])|    (17,[7],[1.0])|    (17,[7],[1.0])|    (3,[0],[1.0])|       (2,[0],[1.0])|\n",
            "|  Albury|    7.4|   25.1|     0.0|       NULL|    NULL|        WNW|         44.0|       NNW|       WSW|         4.0|        22.0|       44.0|       25.0|     1010.6|     1007.8|    NULL|    NULL|   17.2|   24.3|       No|          No|2008|   12|  2|          14.0|             10.0|            10.0|             3.0|            0.0|               0.0| (49,[14],[1.0])|    (17,[10],[1.0])|   (17,[10],[1.0])|    (17,[3],[1.0])|    (3,[0],[1.0])|       (2,[0],[1.0])|\n",
            "|  Albury|   12.9|   25.7|     0.0|       NULL|    NULL|        WSW|         46.0|         W|       WSW|        19.0|        26.0|       38.0|       30.0|     1007.6|     1008.7|    NULL|     2.0|   21.0|   23.2|       No|          No|2008|   12|  3|          14.0|              7.0|             7.0|             3.0|            0.0|               0.0| (49,[14],[1.0])|     (17,[7],[1.0])|    (17,[7],[1.0])|    (17,[3],[1.0])|    (3,[0],[1.0])|       (2,[0],[1.0])|\n",
            "|  Albury|    9.2|   28.0|     0.0|       NULL|    NULL|         NE|         24.0|        SE|         E|        11.0|         9.0|       45.0|       16.0|     1017.6|     1012.8|    NULL|    NULL|   18.1|   26.5|       No|          No|2008|   12|  4|          14.0|             14.0|             2.0|            10.0|            0.0|               0.0| (49,[14],[1.0])|    (17,[14],[1.0])|    (17,[2],[1.0])|   (17,[10],[1.0])|    (3,[0],[1.0])|       (2,[0],[1.0])|\n",
            "|  Albury|   17.5|   32.3|     1.0|       NULL|    NULL|          W|         41.0|       ENE|        NW|         7.0|        20.0|       82.0|       33.0|     1010.8|     1006.0|     7.0|     8.0|   17.8|   29.7|       No|          No|2008|   12|  5|          14.0|              0.0|            11.0|             8.0|            0.0|               0.0| (49,[14],[1.0])|     (17,[0],[1.0])|   (17,[11],[1.0])|    (17,[8],[1.0])|    (3,[0],[1.0])|       (2,[0],[1.0])|\n",
            "+--------+-------+-------+--------+-----------+--------+-----------+-------------+----------+----------+------------+------------+-----------+-----------+-----------+-----------+--------+--------+-------+-------+---------+------------+----+-----+---+--------------+-----------------+----------------+----------------+---------------+------------------+----------------+-------------------+------------------+------------------+-----------------+--------------------+\n",
            "only showing top 5 rows\n",
            "\n"
          ]
        }
      ]
    },
    {
      "cell_type": "markdown",
      "source": [
        "**13. The RainTomorrow is the label, and all other fields are features.**"
      ],
      "metadata": {
        "id": "7A14LO7FOX-n"
      }
    },
    {
      "cell_type": "code",
      "source": [
        "# RainTomorrow is label and all other fields are features\n",
        "\n",
        "label_col = \"RainTomorrow\"\n",
        "feature_cols = [col for col in encoded_data.columns if col != label_col]"
      ],
      "metadata": {
        "id": "IVv2dIME8uQr"
      },
      "execution_count": 26,
      "outputs": []
    },
    {
      "cell_type": "markdown",
      "source": [
        "**14. You may use the median value (median imputation) of each field to fill null values if it is a\n",
        "numerical column. Use the most frequent value in case of a categorical column**"
      ],
      "metadata": {
        "id": "TAqw5HIMOxIT"
      }
    },
    {
      "cell_type": "code",
      "source": [
        "# Import necessary libraries\n",
        "\n",
        "from pyspark.ml.feature import MinMaxScaler, Imputer"
      ],
      "metadata": {
        "id": "jkno-Mvm-jP4"
      },
      "execution_count": 27,
      "outputs": []
    },
    {
      "cell_type": "code",
      "source": [
        "# Fill null values with most frequent for categorical columns\n",
        "\n",
        "for col in categorical_variables:\n",
        "    mode = encoded_data.groupBy(col).count().orderBy(\"count\", ascending=False).first()[0]\n",
        "    encoded_data = encoded_data.fillna({col: mode})"
      ],
      "metadata": {
        "id": "EHlOf9xZ_Rei"
      },
      "execution_count": 28,
      "outputs": []
    },
    {
      "cell_type": "code",
      "source": [
        "# Impute null values for numerical columns with median\n",
        "\n",
        "numerical_cols = [col for col, dtype in data.dtypes if dtype != 'string']\n",
        "\n",
        "imputer = Imputer(strategy='median', inputCols=numerical_cols, outputCols=numerical_cols)\n",
        "imputed_data = imputer.fit(encoded_data).transform(encoded_data)"
      ],
      "metadata": {
        "id": "lTCom3wHAIyT"
      },
      "execution_count": 29,
      "outputs": []
    },
    {
      "cell_type": "code",
      "source": [
        "# Display data after replacing null values with most frequent for categorical columns and with median for numerical columns\n",
        "\n",
        "print(\"Data after replacing null values with most frequent for categorical columns and with median for numerical columns\\n\")\n",
        "imputed_data.show(5)"
      ],
      "metadata": {
        "colab": {
          "base_uri": "https://localhost:8080/"
        },
        "id": "7RuLVz4SUB0H",
        "outputId": "6d66f092-fdae-4f27-b275-5402385417cb"
      },
      "execution_count": 30,
      "outputs": [
        {
          "output_type": "stream",
          "name": "stdout",
          "text": [
            "Data after replacing null values with most frequent for categorical columns and with median for numerical columns\n",
            "\n",
            "+--------+-------+-------+--------+-----------+--------+-----------+-------------+----------+----------+------------+------------+-----------+-----------+-----------+-----------+--------+--------+-------+-------+---------+------------+----+-----+---+--------------+-----------------+----------------+----------------+---------------+------------------+----------------+-------------------+------------------+------------------+-----------------+--------------------+\n",
            "|Location|MinTemp|MaxTemp|Rainfall|Evaporation|Sunshine|WindGustDir|WindGustSpeed|WindDir9am|WindDir3pm|WindSpeed9am|WindSpeed3pm|Humidity9am|Humidity3pm|Pressure9am|Pressure3pm|Cloud9am|Cloud3pm|Temp9am|Temp3pm|RainToday|RainTomorrow|Year|Month|Day|Location_index|WindGustDir_index|WindDir9am_index|WindDir3pm_index|RainToday_index|RainTomorrow_index|Location_encoded|WindGustDir_encoded|WindDir9am_encoded|WindDir3pm_encoded|RainToday_encoded|RainTomorrow_encoded|\n",
            "+--------+-------+-------+--------+-----------+--------+-----------+-------------+----------+----------+------------+------------+-----------+-----------+-----------+-----------+--------+--------+-------+-------+---------+------------+----+-----+---+--------------+-----------------+----------------+----------------+---------------+------------------+----------------+-------------------+------------------+------------------+-----------------+--------------------+\n",
            "|  Albury|   13.4|   22.9|     0.6|        4.8|     8.5|          W|         44.0|         W|       WNW|        20.0|        24.0|       71.0|       22.0|     1007.7|     1007.1|     8.0|     5.0|   16.9|   21.8|       No|          No|2008|   12|  1|          14.0|              0.0|             7.0|             7.0|            0.0|               0.0| (49,[14],[1.0])|     (17,[0],[1.0])|    (17,[7],[1.0])|    (17,[7],[1.0])|    (3,[0],[1.0])|       (2,[0],[1.0])|\n",
            "|  Albury|    7.4|   25.1|     0.0|        4.8|     8.5|        WNW|         44.0|       NNW|       WSW|         4.0|        22.0|       44.0|       25.0|     1010.6|     1007.8|     5.0|     5.0|   17.2|   24.3|       No|          No|2008|   12|  2|          14.0|             10.0|            10.0|             3.0|            0.0|               0.0| (49,[14],[1.0])|    (17,[10],[1.0])|   (17,[10],[1.0])|    (17,[3],[1.0])|    (3,[0],[1.0])|       (2,[0],[1.0])|\n",
            "|  Albury|   12.9|   25.7|     0.0|        4.8|     8.5|        WSW|         46.0|         W|       WSW|        19.0|        26.0|       38.0|       30.0|     1007.6|     1008.7|     5.0|     2.0|   21.0|   23.2|       No|          No|2008|   12|  3|          14.0|              7.0|             7.0|             3.0|            0.0|               0.0| (49,[14],[1.0])|     (17,[7],[1.0])|    (17,[7],[1.0])|    (17,[3],[1.0])|    (3,[0],[1.0])|       (2,[0],[1.0])|\n",
            "|  Albury|    9.2|   28.0|     0.0|        4.8|     8.5|         NE|         24.0|        SE|         E|        11.0|         9.0|       45.0|       16.0|     1017.6|     1012.8|     5.0|     5.0|   18.1|   26.5|       No|          No|2008|   12|  4|          14.0|             14.0|             2.0|            10.0|            0.0|               0.0| (49,[14],[1.0])|    (17,[14],[1.0])|    (17,[2],[1.0])|   (17,[10],[1.0])|    (3,[0],[1.0])|       (2,[0],[1.0])|\n",
            "|  Albury|   17.5|   32.3|     1.0|        4.8|     8.5|          W|         41.0|       ENE|        NW|         7.0|        20.0|       82.0|       33.0|     1010.8|     1006.0|     7.0|     8.0|   17.8|   29.7|       No|          No|2008|   12|  5|          14.0|              0.0|            11.0|             8.0|            0.0|               0.0| (49,[14],[1.0])|     (17,[0],[1.0])|   (17,[11],[1.0])|    (17,[8],[1.0])|    (3,[0],[1.0])|       (2,[0],[1.0])|\n",
            "+--------+-------+-------+--------+-----------+--------+-----------+-------------+----------+----------+------------+------------+-----------+-----------+-----------+-----------+--------+--------+-------+-------+---------+------------+----+-----+---+--------------+-----------------+----------------+----------------+---------------+------------------+----------------+-------------------+------------------+------------------+-----------------+--------------------+\n",
            "only showing top 5 rows\n",
            "\n"
          ]
        }
      ]
    },
    {
      "cell_type": "markdown",
      "source": [
        "**15. Normalize each numerical column (bring it to a value between 0 and 1)**"
      ],
      "metadata": {
        "id": "zxTzVrBtPQG2"
      }
    },
    {
      "cell_type": "code",
      "source": [
        "# Normalize numerical columns\n",
        "\n",
        "for col in numerical_cols:\n",
        "    if col != label_col:  # Exclude the label column\n",
        "        minimum = imputed_data.agg({col: \"min\"}).collect()[0][0]\n",
        "        maximum = imputed_data.agg({col: \"max\"}).collect()[0][0]\n",
        "        imputed_data = imputed_data.withColumn(col, (imputed_data[col] - minimum) / (maximum - minimum))"
      ],
      "metadata": {
        "id": "NkLfJWBBPOCd"
      },
      "execution_count": 31,
      "outputs": []
    },
    {
      "cell_type": "code",
      "source": [
        "# Display data after normalising each numerical column\n",
        "\n",
        "print(\"Data after normalising each numerical column\\n\")\n",
        "imputed_data.show(5)"
      ],
      "metadata": {
        "colab": {
          "base_uri": "https://localhost:8080/"
        },
        "id": "6AcWVkdXAYZc",
        "outputId": "75e53d4b-2bcd-4908-d816-347c7e256c84"
      },
      "execution_count": 32,
      "outputs": [
        {
          "output_type": "stream",
          "name": "stdout",
          "text": [
            "Data after normalising each numerical column\n",
            "\n",
            "+--------+-------------------+------------------+--------------------+-------------------+------------------+-----------+-------------------+----------+----------+-------------------+-------------------+-----------+-----------+-------------------+-------------------+------------------+------------------+------------------+------------------+---------+------------+----+-----+-------------------+--------------+-----------------+----------------+----------------+---------------+------------------+----------------+-------------------+------------------+------------------+-----------------+--------------------+\n",
            "|Location|            MinTemp|           MaxTemp|            Rainfall|        Evaporation|          Sunshine|WindGustDir|      WindGustSpeed|WindDir9am|WindDir3pm|       WindSpeed9am|       WindSpeed3pm|Humidity9am|Humidity3pm|        Pressure9am|        Pressure3pm|          Cloud9am|          Cloud3pm|           Temp9am|           Temp3pm|RainToday|RainTomorrow|Year|Month|                Day|Location_index|WindGustDir_index|WindDir9am_index|WindDir3pm_index|RainToday_index|RainTomorrow_index|Location_encoded|WindGustDir_encoded|WindDir9am_encoded|WindDir3pm_encoded|RainToday_encoded|RainTomorrow_encoded|\n",
            "+--------+-------------------+------------------+--------------------+-------------------+------------------+-----------+-------------------+----------+----------+-------------------+-------------------+-----------+-----------+-------------------+-------------------+------------------+------------------+------------------+------------------+---------+------------+----+-----+-------------------+--------------+-----------------+----------------+----------------+---------------+------------------+----------------+-------------------+------------------+------------------+-----------------+--------------------+\n",
            "|  Albury| 0.5165094339622641|0.5236294896030246|0.001617250673854...|0.03310344827586207|0.5862068965517241|          W|0.29457364341085274|         W|       WNW|0.15384615384615385|0.27586206896551724|       0.71|       0.22| 0.4495867768595049|0.48000000000000087|0.8888888888888888|0.5555555555555556|0.5084388185654007|0.5220729366602688|       No|          No| 0.1|  1.0|                0.0|          14.0|              0.0|             7.0|             7.0|            0.0|               0.0| (49,[14],[1.0])|     (17,[0],[1.0])|    (17,[7],[1.0])|    (17,[7],[1.0])|    (3,[0],[1.0])|       (2,[0],[1.0])|\n",
            "|  Albury|              0.375|0.5652173913043479|                 0.0|0.03310344827586207|0.5862068965517241|        WNW|0.29457364341085274|       NNW|       WSW|0.03076923076923077|0.25287356321839083|       0.44|       0.25|0.49752066115702515| 0.4911999999999998|0.5555555555555556|0.5555555555555556|0.5147679324894514|0.5700575815738964|       No|          No| 0.1|  1.0|0.03333333333333333|          14.0|             10.0|            10.0|             3.0|            0.0|               0.0| (49,[14],[1.0])|    (17,[10],[1.0])|   (17,[10],[1.0])|    (17,[3],[1.0])|    (3,[0],[1.0])|       (2,[0],[1.0])|\n",
            "|  Albury| 0.5047169811320754|0.5765595463137997|                 0.0|0.03310344827586207|0.5862068965517241|        WSW|0.31007751937984496|         W|       WSW|0.14615384615384616| 0.2988505747126437|       0.38|        0.3|  0.447933884297521| 0.5056000000000013|0.5555555555555556|0.2222222222222222|0.5949367088607594|0.5489443378119002|       No|          No| 0.1|  1.0|0.06666666666666667|          14.0|              7.0|             7.0|             3.0|            0.0|               0.0| (49,[14],[1.0])|     (17,[7],[1.0])|    (17,[7],[1.0])|    (17,[3],[1.0])|    (3,[0],[1.0])|       (2,[0],[1.0])|\n",
            "|  Albury|0.41745283018867924|0.6200378071833648|                 0.0|0.03310344827586207|0.5862068965517241|         NE|0.13953488372093023|        SE|         E|0.08461538461538462|0.10344827586206896|       0.45|       0.16| 0.6132231404958681| 0.5711999999999999|0.5555555555555556|0.5555555555555556|0.5337552742616033|0.6122840690978887|       No|          No| 0.1|  1.0|                0.1|          14.0|             14.0|             2.0|            10.0|            0.0|               0.0| (49,[14],[1.0])|    (17,[14],[1.0])|    (17,[2],[1.0])|   (17,[10],[1.0])|    (3,[0],[1.0])|       (2,[0],[1.0])|\n",
            "|  Albury| 0.6132075471698113|0.7013232514177693|0.002695417789757...|0.03310344827586207|0.5862068965517241|          W| 0.2713178294573643|       ENE|        NW|0.05384615384615385|0.22988505747126436|       0.82|       0.33| 0.5008264462809909| 0.4624000000000005|0.7777777777777778|0.8888888888888888|0.5274261603375526|0.6737044145873321|       No|          No| 0.1|  1.0|0.13333333333333333|          14.0|              0.0|            11.0|             8.0|            0.0|               0.0| (49,[14],[1.0])|     (17,[0],[1.0])|   (17,[11],[1.0])|    (17,[8],[1.0])|    (3,[0],[1.0])|       (2,[0],[1.0])|\n",
            "+--------+-------------------+------------------+--------------------+-------------------+------------------+-----------+-------------------+----------+----------+-------------------+-------------------+-----------+-----------+-------------------+-------------------+------------------+------------------+------------------+------------------+---------+------------+----+-----+-------------------+--------------+-----------------+----------------+----------------+---------------+------------------+----------------+-------------------+------------------+------------------+-----------------+--------------------+\n",
            "only showing top 5 rows\n",
            "\n"
          ]
        }
      ]
    },
    {
      "cell_type": "markdown",
      "source": [
        "**16. Train your Logistic Regression model on the training dataset (70% 30% split)**"
      ],
      "metadata": {
        "id": "zb90AKiGPdMm"
      }
    },
    {
      "cell_type": "code",
      "source": [
        "# Encode label column\n",
        "\n",
        "label_indexer = StringIndexer(inputCol=label_col, outputCol=\"label\")\n",
        "indexed_df = label_indexer.fit(imputed_data).transform(imputed_data)"
      ],
      "metadata": {
        "id": "q4xApRQGCKPT"
      },
      "execution_count": 36,
      "outputs": []
    },
    {
      "cell_type": "code",
      "source": [
        "# Assemble feature columns\n",
        "\n",
        "feature_cols = [col for col in indexed_df.columns if col not in categorical_variables + [label_col]]\n",
        "assembler = VectorAssembler(inputCols=feature_cols, outputCol=\"features\")\n",
        "assembled_data = assembler.transform(indexed_df)"
      ],
      "metadata": {
        "id": "z0P3ia-qCowZ"
      },
      "execution_count": 37,
      "outputs": []
    },
    {
      "cell_type": "code",
      "source": [
        "assembled_data.show(5)"
      ],
      "metadata": {
        "colab": {
          "base_uri": "https://localhost:8080/"
        },
        "id": "n6HVxB7Dp8lx",
        "outputId": "6d43d9b0-5ef1-4f9b-8ad3-1111cc74f4ea"
      },
      "execution_count": 38,
      "outputs": [
        {
          "output_type": "stream",
          "name": "stdout",
          "text": [
            "+--------+-------------------+------------------+--------------------+-------------------+------------------+-----------+-------------------+----------+----------+-------------------+-------------------+-----------+-----------+-------------------+-------------------+------------------+------------------+------------------+------------------+---------+------------+----+-----+-------------------+--------------+-----------------+----------------+----------------+---------------+------------------+----------------+-------------------+------------------+------------------+-----------------+--------------------+-----+--------------------+\n",
            "|Location|            MinTemp|           MaxTemp|            Rainfall|        Evaporation|          Sunshine|WindGustDir|      WindGustSpeed|WindDir9am|WindDir3pm|       WindSpeed9am|       WindSpeed3pm|Humidity9am|Humidity3pm|        Pressure9am|        Pressure3pm|          Cloud9am|          Cloud3pm|           Temp9am|           Temp3pm|RainToday|RainTomorrow|Year|Month|                Day|Location_index|WindGustDir_index|WindDir9am_index|WindDir3pm_index|RainToday_index|RainTomorrow_index|Location_encoded|WindGustDir_encoded|WindDir9am_encoded|WindDir3pm_encoded|RainToday_encoded|RainTomorrow_encoded|label|            features|\n",
            "+--------+-------------------+------------------+--------------------+-------------------+------------------+-----------+-------------------+----------+----------+-------------------+-------------------+-----------+-----------+-------------------+-------------------+------------------+------------------+------------------+------------------+---------+------------+----+-----+-------------------+--------------+-----------------+----------------+----------------+---------------+------------------+----------------+-------------------+------------------+------------------+-----------------+--------------------+-----+--------------------+\n",
            "|  Albury| 0.5165094339622641|0.5236294896030246|0.001617250673854...|0.03310344827586207|0.5862068965517241|          W|0.29457364341085274|         W|       WNW|0.15384615384615385|0.27586206896551724|       0.71|       0.22| 0.4495867768595049|0.48000000000000087|0.8888888888888888|0.5555555555555556|0.5084388185654007|0.5220729366602688|       No|          No| 0.1|  1.0|                0.0|          14.0|              0.0|             7.0|             7.0|            0.0|               0.0| (49,[14],[1.0])|     (17,[0],[1.0])|    (17,[7],[1.0])|    (17,[7],[1.0])|    (3,[0],[1.0])|       (2,[0],[1.0])|  0.0|(131,[0,1,2,3,4,5...|\n",
            "|  Albury|              0.375|0.5652173913043479|                 0.0|0.03310344827586207|0.5862068965517241|        WNW|0.29457364341085274|       NNW|       WSW|0.03076923076923077|0.25287356321839083|       0.44|       0.25|0.49752066115702515| 0.4911999999999998|0.5555555555555556|0.5555555555555556|0.5147679324894514|0.5700575815738964|       No|          No| 0.1|  1.0|0.03333333333333333|          14.0|             10.0|            10.0|             3.0|            0.0|               0.0| (49,[14],[1.0])|    (17,[10],[1.0])|   (17,[10],[1.0])|    (17,[3],[1.0])|    (3,[0],[1.0])|       (2,[0],[1.0])|  0.0|(131,[0,1,3,4,5,6...|\n",
            "|  Albury| 0.5047169811320754|0.5765595463137997|                 0.0|0.03310344827586207|0.5862068965517241|        WSW|0.31007751937984496|         W|       WSW|0.14615384615384616| 0.2988505747126437|       0.38|        0.3|  0.447933884297521| 0.5056000000000013|0.5555555555555556|0.2222222222222222|0.5949367088607594|0.5489443378119002|       No|          No| 0.1|  1.0|0.06666666666666667|          14.0|              7.0|             7.0|             3.0|            0.0|               0.0| (49,[14],[1.0])|     (17,[7],[1.0])|    (17,[7],[1.0])|    (17,[3],[1.0])|    (3,[0],[1.0])|       (2,[0],[1.0])|  0.0|(131,[0,1,3,4,5,6...|\n",
            "|  Albury|0.41745283018867924|0.6200378071833648|                 0.0|0.03310344827586207|0.5862068965517241|         NE|0.13953488372093023|        SE|         E|0.08461538461538462|0.10344827586206896|       0.45|       0.16| 0.6132231404958681| 0.5711999999999999|0.5555555555555556|0.5555555555555556|0.5337552742616033|0.6122840690978887|       No|          No| 0.1|  1.0|                0.1|          14.0|             14.0|             2.0|            10.0|            0.0|               0.0| (49,[14],[1.0])|    (17,[14],[1.0])|    (17,[2],[1.0])|   (17,[10],[1.0])|    (3,[0],[1.0])|       (2,[0],[1.0])|  0.0|(131,[0,1,3,4,5,6...|\n",
            "|  Albury| 0.6132075471698113|0.7013232514177693|0.002695417789757...|0.03310344827586207|0.5862068965517241|          W| 0.2713178294573643|       ENE|        NW|0.05384615384615385|0.22988505747126436|       0.82|       0.33| 0.5008264462809909| 0.4624000000000005|0.7777777777777778|0.8888888888888888|0.5274261603375526|0.6737044145873321|       No|          No| 0.1|  1.0|0.13333333333333333|          14.0|              0.0|            11.0|             8.0|            0.0|               0.0| (49,[14],[1.0])|     (17,[0],[1.0])|   (17,[11],[1.0])|    (17,[8],[1.0])|    (3,[0],[1.0])|       (2,[0],[1.0])|  0.0|(131,[0,1,2,3,4,5...|\n",
            "+--------+-------------------+------------------+--------------------+-------------------+------------------+-----------+-------------------+----------+----------+-------------------+-------------------+-----------+-----------+-------------------+-------------------+------------------+------------------+------------------+------------------+---------+------------+----+-----+-------------------+--------------+-----------------+----------------+----------------+---------------+------------------+----------------+-------------------+------------------+------------------+-----------------+--------------------+-----+--------------------+\n",
            "only showing top 5 rows\n",
            "\n"
          ]
        }
      ]
    },
    {
      "cell_type": "code",
      "source": [
        "# Split the dataset into training and testing sets (70% 30% split)\n",
        "\n",
        "train_data, test_data = assembled_data.randomSplit([0.7, 0.3], seed=42)"
      ],
      "metadata": {
        "id": "-HXF-wlSBzxn"
      },
      "execution_count": 39,
      "outputs": []
    },
    {
      "cell_type": "code",
      "source": [
        "# Train Logistic Regression model\n",
        "\n",
        "lr = LogisticRegression(featuresCol=\"features\", labelCol=\"label\")"
      ],
      "metadata": {
        "id": "Sr7FTIhGW1LJ"
      },
      "execution_count": 40,
      "outputs": []
    },
    {
      "cell_type": "code",
      "source": [
        "lr_model = lr.fit(train_data)"
      ],
      "metadata": {
        "id": "bw3_P1ugmbaf"
      },
      "execution_count": 41,
      "outputs": []
    },
    {
      "cell_type": "markdown",
      "source": [
        "**17. Predict the RainTomorrow for the test set.**"
      ],
      "metadata": {
        "id": "MvVZdtuSP85j"
      }
    },
    {
      "cell_type": "code",
      "source": [
        "# Predict RainTomorrow for the test set\n",
        "predictions = lr_model.transform(test_data)\n",
        "\n",
        "# Show predicted values for RainTomorrow\n",
        "predictions.select(\"RainTomorrow\", \"prediction\").show()"
      ],
      "metadata": {
        "id": "HJ8dA0ohDK3t",
        "colab": {
          "base_uri": "https://localhost:8080/"
        },
        "outputId": "b4889ba2-a5a0-42b7-fb90-48ab192e1ec4"
      },
      "execution_count": 42,
      "outputs": [
        {
          "output_type": "stream",
          "name": "stdout",
          "text": [
            "+------------+----------+\n",
            "|RainTomorrow|prediction|\n",
            "+------------+----------+\n",
            "|         Yes|       1.0|\n",
            "|          No|       0.0|\n",
            "|          No|       0.0|\n",
            "|          No|       0.0|\n",
            "|          No|       0.0|\n",
            "|          No|       0.0|\n",
            "|          No|       0.0|\n",
            "|          No|       0.0|\n",
            "|          No|       0.0|\n",
            "|          No|       0.0|\n",
            "|          No|       0.0|\n",
            "|          No|       0.0|\n",
            "|          No|       0.0|\n",
            "|          No|       0.0|\n",
            "|          No|       0.0|\n",
            "|          No|       0.0|\n",
            "|          No|       0.0|\n",
            "|          No|       0.0|\n",
            "|          No|       0.0|\n",
            "|          No|       0.0|\n",
            "+------------+----------+\n",
            "only showing top 20 rows\n",
            "\n"
          ]
        }
      ]
    },
    {
      "cell_type": "markdown",
      "source": [
        "**18. Describe the performance of your model using the confusion matrix and print TP, TN,\n",
        "FP, and FN. In addition, provide the accuracy and F1 score of your model.**"
      ],
      "metadata": {
        "id": "U3xo1ERIQP6b"
      }
    },
    {
      "cell_type": "code",
      "source": [
        "# Evaluate the model\n",
        "\n",
        "evaluator = BinaryClassificationEvaluator(labelCol=\"label\")\n",
        "accuracy = evaluator.evaluate(predictions)"
      ],
      "metadata": {
        "id": "H_2EfdVXFRHt"
      },
      "execution_count": 43,
      "outputs": []
    },
    {
      "cell_type": "code",
      "source": [
        "# Confusion Matrix\n",
        "\n",
        "print(\"Confusion Matrix:\\n\")\n",
        "predictions.groupBy(\"label\", \"prediction\").count().show()"
      ],
      "metadata": {
        "id": "GAX_imQXF5yv",
        "colab": {
          "base_uri": "https://localhost:8080/"
        },
        "outputId": "d9426da1-b79a-421a-c799-42fd3b3dcccd"
      },
      "execution_count": 44,
      "outputs": [
        {
          "output_type": "stream",
          "name": "stdout",
          "text": [
            "Confusion Matrix:\n",
            "\n",
            "+-----+----------+-----+\n",
            "|label|prediction|count|\n",
            "+-----+----------+-----+\n",
            "|  1.0|       1.0| 9539|\n",
            "|  0.0|       0.0|33066|\n",
            "+-----+----------+-----+\n",
            "\n"
          ]
        }
      ]
    },
    {
      "cell_type": "code",
      "source": [
        "# True Positives (TP)\n",
        "tp = predictions.filter((predictions[\"label\"] == 1) & (predictions[\"prediction\"] == 1)).count()\n",
        "\n",
        "# True Negatives (TN)\n",
        "tn = predictions.filter((predictions[\"label\"] == 0) & (predictions[\"prediction\"] == 0)).count()\n",
        "\n",
        "# False Positives (FP)\n",
        "fp = predictions.filter((predictions[\"label\"] == 0) & (predictions[\"prediction\"] == 1)).count()\n",
        "\n",
        "# False Negatives (FN)\n",
        "fn = predictions.filter((predictions[\"label\"] == 1) & (predictions[\"prediction\"] == 0)).count()"
      ],
      "metadata": {
        "id": "UbXTJetnECd7"
      },
      "execution_count": 45,
      "outputs": []
    },
    {
      "cell_type": "code",
      "source": [
        "# Precision, Recall and f1_score\n",
        "\n",
        "precision = tp / (tp + fp)\n",
        "recall = tp / (tp + fn)\n",
        "f1_score = 2 * (precision * recall) / (precision + recall)"
      ],
      "metadata": {
        "id": "aCfFcX34GgEn"
      },
      "execution_count": 46,
      "outputs": []
    },
    {
      "cell_type": "code",
      "source": [
        "# Print True Positiives, True Negatives, False Positives, False Negatives\n",
        "\n",
        "print(\"True Positives:\", tp)\n",
        "print(\"\\nTrue Negatives:\", tn)\n",
        "print(\"\\nFalse Positives:\", fp)\n",
        "print(\"\\nFalse Negatives:\", fn)"
      ],
      "metadata": {
        "id": "WYg-30PvF2Y0",
        "colab": {
          "base_uri": "https://localhost:8080/"
        },
        "outputId": "d2b86bc4-0945-485b-bae7-9568d300ae41"
      },
      "execution_count": 47,
      "outputs": [
        {
          "output_type": "stream",
          "name": "stdout",
          "text": [
            "True Positives: 9539\n",
            "\n",
            "True Negatives: 33066\n",
            "\n",
            "False Positives: 0\n",
            "\n",
            "False Negatives: 0\n"
          ]
        }
      ]
    },
    {
      "cell_type": "code",
      "source": [
        "# Print Accuracy and F1 Score\n",
        "\n",
        "print(\"Accuracy:\", accuracy)\n",
        "print(\"\\nF1 Score:\", f1_score)"
      ],
      "metadata": {
        "id": "zcmlIIvqGKNg",
        "colab": {
          "base_uri": "https://localhost:8080/"
        },
        "outputId": "95e23192-0def-4e20-a945-a319ef52d037"
      },
      "execution_count": 48,
      "outputs": [
        {
          "output_type": "stream",
          "name": "stdout",
          "text": [
            "Accuracy: 0.9999997067370341\n",
            "\n",
            "F1 Score: 1.0\n"
          ]
        }
      ]
    }
  ]
}